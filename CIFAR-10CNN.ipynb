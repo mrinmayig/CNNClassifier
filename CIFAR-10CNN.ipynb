{
 "cells": [
  {
   "cell_type": "markdown",
   "metadata": {},
   "source": [
    "### Multi-Class Classifier using CNN"
   ]
  },
  {
   "cell_type": "markdown",
   "metadata": {},
   "source": [
    "About this notebook: \n",
    "The task is to perform image classification using a convolutional neural network.\n",
    "\n",
    "### Tags: Convolutional Neural Network (CNN), Image Classification, Supervised Learning, Keras, Optimization, Regularization, Numpy, Matplotlib"
   ]
  },
  {
   "cell_type": "markdown",
   "metadata": {},
   "source": [
    "### Import Libraries"
   ]
  },
  {
   "cell_type": "code",
   "execution_count": 6,
   "metadata": {},
   "outputs": [],
   "source": [
    "#Import dependencies\n",
    "%matplotlib inline\n",
    "import numpy as np\n",
    "import matplotlib\n",
    "from matplotlib import pyplot as plt\n",
    "from keras.models import Sequential\n",
    "from keras.optimizers import Adam\n",
    "from keras.callbacks import ModelCheckpoint\n",
    "from keras.models import load_model\n",
    "from keras.layers import Lambda, Conv2D, MaxPooling2D, Dropout, Dense, Flatten, Activation"
   ]
  },
  {
   "cell_type": "markdown",
   "metadata": {},
   "source": [
    "### Get the data"
   ]
  },
  {
   "cell_type": "code",
   "execution_count": 2,
   "metadata": {},
   "outputs": [],
   "source": [
    "#Get the dataset \n",
    "#Dataset has 50,000 32x32 color training images, labeled over 10 categories, and 10,000 test images.\n",
    "from keras.datasets import cifar10\n",
    "\n",
    "#The dataset is already split into train and test sets\n",
    "#Unpack the data as follows\n",
    "(x_train, y_train), (x_test, y_test) = cifar10.load_data() "
   ]
  },
  {
   "cell_type": "markdown",
   "metadata": {},
   "source": [
    "### View the shape of train and test data"
   ]
  },
  {
   "cell_type": "code",
   "execution_count": 5,
   "metadata": {},
   "outputs": [
    {
     "name": "stdout",
     "output_type": "stream",
     "text": [
      "(50000, 32, 32, 3)\n",
      "(50000, 1)\n",
      "(10000, 32, 32, 3)\n",
      "(10000, 1)\n"
     ]
    }
   ],
   "source": [
    "#Check the shape of x_train, y_train, x_test and y_test\n",
    "for i in (x_train, y_train, x_test, y_test):\n",
    "    print(i.shape)"
   ]
  },
  {
   "cell_type": "code",
   "execution_count": 12,
   "metadata": {},
   "outputs": [],
   "source": [
    "# Height and width of the images\n",
    "image_size = 32\n",
    "# 3 channels, Red, Green and Blue\n",
    "channels = 3\n",
    "#Number of output classes\n",
    "num_classes = 10"
   ]
  },
  {
   "cell_type": "markdown",
   "metadata": {},
   "source": [
    "### Define the Model"
   ]
  },
  {
   "cell_type": "code",
   "execution_count": 13,
   "metadata": {},
   "outputs": [],
   "source": [
    "#Define the model\n",
    "def cnn_model():\n",
    "    \n",
    "    model = Sequential()\n",
    "    \n",
    "    model.add(Conv2D(32, (3, 3), activation='relu', padding='same', input_shape=(image_size,image_size,channels)))    \n",
    "    model.add(Conv2D(32, (3, 3), activation='relu'))    \n",
    "    model.add(MaxPooling2D(pool_size=(2, 2)))\n",
    "    model.add(Dropout(0.25)) #Regularization to prevent overfitting \n",
    "\n",
    "    \n",
    "    model.add(Conv2D(64, (3, 3), activation='relu', padding='same'))    \n",
    "    model.add(Conv2D(64, (3, 3), activation='relu'))\n",
    "    model.add(MaxPooling2D(pool_size=(2, 2)))\n",
    "    model.add(Dropout(0.25)) \n",
    "\n",
    "    model.add(Flatten())\n",
    "    \n",
    "    model.add(Dense(512, activation='relu')) #Fully connected layer\n",
    "    model.add(Dropout(0.5))\n",
    "    \n",
    "    model.add(Dense(num_classes, activation='softmax')) #Output layer\n",
    "    \n",
    "    model.summary()\n",
    "    \n",
    "    return model"
   ]
  },
  {
   "cell_type": "markdown",
   "metadata": {},
   "source": [
    "### Build the model"
   ]
  },
  {
   "cell_type": "code",
   "execution_count": 14,
   "metadata": {},
   "outputs": [
    {
     "name": "stdout",
     "output_type": "stream",
     "text": [
      "_________________________________________________________________\n",
      "Layer (type)                 Output Shape              Param #   \n",
      "=================================================================\n",
      "conv2d_5 (Conv2D)            (None, 32, 32, 32)        896       \n",
      "_________________________________________________________________\n",
      "conv2d_6 (Conv2D)            (None, 30, 30, 32)        9248      \n",
      "_________________________________________________________________\n",
      "max_pooling2d_3 (MaxPooling2 (None, 15, 15, 32)        0         \n",
      "_________________________________________________________________\n",
      "dropout_4 (Dropout)          (None, 15, 15, 32)        0         \n",
      "_________________________________________________________________\n",
      "conv2d_7 (Conv2D)            (None, 15, 15, 64)        18496     \n",
      "_________________________________________________________________\n",
      "conv2d_8 (Conv2D)            (None, 13, 13, 64)        36928     \n",
      "_________________________________________________________________\n",
      "max_pooling2d_4 (MaxPooling2 (None, 6, 6, 64)          0         \n",
      "_________________________________________________________________\n",
      "dropout_5 (Dropout)          (None, 6, 6, 64)          0         \n",
      "_________________________________________________________________\n",
      "flatten_2 (Flatten)          (None, 2304)              0         \n",
      "_________________________________________________________________\n",
      "dense_2 (Dense)              (None, 512)               1180160   \n",
      "_________________________________________________________________\n",
      "dropout_6 (Dropout)          (None, 512)               0         \n",
      "_________________________________________________________________\n",
      "dense_3 (Dense)              (None, 10)                5130      \n",
      "=================================================================\n",
      "Total params: 1,250,858\n",
      "Trainable params: 1,250,858\n",
      "Non-trainable params: 0\n",
      "_________________________________________________________________\n"
     ]
    }
   ],
   "source": [
    "#Lets build the model\n",
    "model = cnn_model()"
   ]
  },
  {
   "cell_type": "markdown",
   "metadata": {},
   "source": [
    "### Train the Model on the Training Data"
   ]
  },
  {
   "cell_type": "code",
   "execution_count": 17,
   "metadata": {},
   "outputs": [],
   "source": [
    "checkpoint = ModelCheckpoint('best_model_simple.h5',  #model filename\n",
    "                             monitor='val_loss', #quantity to monitor\n",
    "                             verbose=0, #verbosity - 0 or 1\n",
    "                             save_best_only= True, # The latest best model will not be overwritten\n",
    "                             mode='auto') # The decision to overwrite model is made \n",
    "                                          # automatically depending on the quantity to monitor"
   ]
  },
  {
   "cell_type": "code",
   "execution_count": 18,
   "metadata": {},
   "outputs": [],
   "source": [
    "model.compile(loss='categorical_crossentropy', #Better loss function for neural networks\n",
    "              optimizer=Adam(lr=1.0e-4), #Adam optimizer with 1.0e-4 learning rate\n",
    "              metrics = ['accuracy']) #Metrics to be evaluated by the model"
   ]
  },
  {
   "cell_type": "code",
   "execution_count": 22,
   "metadata": {},
   "outputs": [
    {
     "name": "stdout",
     "output_type": "stream",
     "text": [
      "[[6]\n",
      " [9]\n",
      " [9]\n",
      " ...\n",
      " [9]\n",
      " [1]\n",
      " [1]]\n",
      "[[3]\n",
      " [8]\n",
      " [8]\n",
      " ...\n",
      " [5]\n",
      " [1]\n",
      " [7]]\n",
      "[[0. 0. 0. ... 0. 0. 0.]\n",
      " [0. 0. 0. ... 0. 0. 1.]\n",
      " [0. 0. 0. ... 0. 0. 1.]\n",
      " ...\n",
      " [0. 0. 0. ... 0. 0. 1.]\n",
      " [0. 1. 0. ... 0. 0. 0.]\n",
      " [0. 1. 0. ... 0. 0. 0.]]\n",
      "[[0. 0. 0. ... 0. 0. 0.]\n",
      " [0. 0. 0. ... 0. 1. 0.]\n",
      " [0. 0. 0. ... 0. 1. 0.]\n",
      " ...\n",
      " [0. 0. 0. ... 0. 0. 0.]\n",
      " [0. 1. 0. ... 0. 0. 0.]\n",
      " [0. 0. 0. ... 1. 0. 0.]]\n"
     ]
    }
   ],
   "source": [
    "#One hot encode output\n",
    "from numpy import array\n",
    "from numpy import argmax\n",
    "from keras.utils import to_categorical\n",
    "\n",
    "# define example\n",
    "class_train = y_train\n",
    "class_train = array(class_train)\n",
    "class_test = y_test\n",
    "class_test = array(class_test)\n",
    "print(class_train)\n",
    "print(class_test)\n",
    "\n",
    "# one hot encode\n",
    "encoded_train = to_categorical(class_train)\n",
    "print(encoded_train)\n",
    "encoded_test = to_categorical(class_test)\n",
    "print(encoded_test)"
   ]
  },
  {
   "cell_type": "markdown",
   "metadata": {},
   "source": [
    "### Fit the model on training data"
   ]
  },
  {
   "cell_type": "code",
   "execution_count": 24,
   "metadata": {},
   "outputs": [
    {
     "name": "stdout",
     "output_type": "stream",
     "text": [
      "Train on 50000 samples, validate on 10000 samples\n",
      "Epoch 1/10\n",
      "50000/50000 [==============================] - 2826s 57ms/step - loss: 1.6122 - acc: 0.4141 - val_loss: 1.4181 - val_acc: 0.4885\n",
      "Epoch 2/10\n",
      "50000/50000 [==============================] - 2838s 57ms/step - loss: 1.4173 - acc: 0.4910 - val_loss: 1.2953 - val_acc: 0.5416\n",
      "Epoch 3/10\n",
      "50000/50000 [==============================] - 24310s 486ms/step - loss: 1.2828 - acc: 0.5448 - val_loss: 1.1732 - val_acc: 0.5828\n",
      "Epoch 4/10\n",
      "50000/50000 [==============================] - 3824s 76ms/step - loss: 1.1811 - acc: 0.5820 - val_loss: 1.1226 - val_acc: 0.6080\n",
      "Epoch 5/10\n",
      "50000/50000 [==============================] - 4021s 80ms/step - loss: 1.0955 - acc: 0.6178 - val_loss: 0.9928 - val_acc: 0.6583\n",
      "Epoch 6/10\n",
      "50000/50000 [==============================] - 2876s 58ms/step - loss: 1.0198 - acc: 0.6443 - val_loss: 0.9992 - val_acc: 0.6483\n",
      "Epoch 7/10\n",
      "50000/50000 [==============================] - 6400s 128ms/step - loss: 0.9679 - acc: 0.6623 - val_loss: 0.9375 - val_acc: 0.6790\n",
      "Epoch 8/10\n",
      "50000/50000 [==============================] - 5906s 118ms/step - loss: 0.9152 - acc: 0.6798 - val_loss: 0.8504 - val_acc: 0.7054\n",
      "Epoch 9/10\n",
      "50000/50000 [==============================] - 6274s 125ms/step - loss: 0.8670 - acc: 0.6959 - val_loss: 0.8648 - val_acc: 0.7008\n",
      "Epoch 10/10\n",
      "50000/50000 [==============================] - 10407s 208ms/step - loss: 0.8241 - acc: 0.7089 - val_loss: 0.8118 - val_acc: 0.7214\n"
     ]
    }
   ],
   "source": [
    "#Fit model to CIFAR-10\n",
    "model_details = model.fit(x_train, encoded_train,\n",
    "                    batch_size = 32, #number of samples per gradient update\n",
    "                    epochs = 10, #number of iterations\n",
    "                    validation_data= (x_test, encoded_test),\n",
    "                    callbacks=[checkpoint],\n",
    "                    verbose=1)"
   ]
  },
  {
   "cell_type": "markdown",
   "metadata": {},
   "source": [
    "### Evaluate model accuracy"
   ]
  },
  {
   "cell_type": "code",
   "execution_count": 28,
   "metadata": {},
   "outputs": [
    {
     "name": "stdout",
     "output_type": "stream",
     "text": [
      "Accuracy: 72.14%\n"
     ]
    }
   ],
   "source": [
    "#Evaluate model accuracy\n",
    "scores = model.evaluate(x_test, encoded_test, verbose=0)\n",
    "print(\"Accuracy: %.2f%%\" % (scores[1]*100))"
   ]
  },
  {
   "cell_type": "markdown",
   "metadata": {},
   "source": [
    "### Plot the resulting loss and accuracy"
   ]
  },
  {
   "cell_type": "code",
   "execution_count": 29,
   "metadata": {},
   "outputs": [
    {
     "data": {
      "image/png": "[encoded data removed]",
      "text/plain": [
       "<Figure size 432x288 with 2 Axes>"
      ]
     },
     "metadata": {},
     "output_type": "display_data"
    }
   ],
   "source": [
    "import os\n",
    "# plotting the metrics\n",
    "fig = plt.figure()\n",
    "plt.subplot(2,1,1)\n",
    "plt.plot(model_details.history['acc'])\n",
    "plt.plot(model_details.history['val_acc'])\n",
    "plt.title('model accuracy')\n",
    "plt.ylabel('accuracy')\n",
    "plt.xlabel('epoch')\n",
    "plt.legend(['train', 'test'], loc='lower right')\n",
    "plt.subplot(2,1,2)\n",
    "plt.plot(model_details.history['loss'])\n",
    "plt.plot(model_details.history['val_loss'])\n",
    "plt.title('model loss')\n",
    "plt.ylabel('loss')\n",
    "plt.xlabel('epoch')\n",
    "plt.legend(['train', 'test'], loc='upper right')\n",
    "plt.tight_layout()\n",
    "fig\n",
    "plt.show()"
   ]
  }
 ],
 "metadata": {
  "kernelspec": {
   "display_name": "Python 3",
   "language": "python",
   "name": "python3"
  },
  "language_info": {
   "codemirror_mode": {
    "name": "ipython",
    "version": 3
   },
   "file_extension": ".py",
   "mimetype": "text/x-python",
   "name": "python",
   "nbconvert_exporter": "python",
   "pygments_lexer": "ipython3",
   "version": "3.6.5"
  }
 },
 "nbformat": 4,
 "nbformat_minor": 2
}
